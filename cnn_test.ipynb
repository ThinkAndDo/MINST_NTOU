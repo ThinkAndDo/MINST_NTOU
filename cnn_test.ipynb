{
 "cells": [
  {
   "cell_type": "code",
   "execution_count": null,
   "metadata": {},
   "outputs": [
    {
     "name": "stdout",
     "output_type": "stream",
     "text": [
      "INFO:tensorflow:Restoring parameters from ./my_net/save_net.ckpt\n",
      "Model Restore form ./my_net/save_net.ckpt\n"
     ]
    }
   ],
   "source": [
    "import os\n",
    "os.environ[\"TF_CPP_MIN_LOG_LEVEL\"]=\"3\"\n",
    "\n",
    "from cnn_model import *\n",
    "from matplotlib import pyplot as plt\n",
    "\n",
    "########################################\n",
    "from PIL import Image\n",
    "\n",
    "\n",
    "#read image\n",
    "\n",
    "########################################\n",
    "\n",
    "'''\n",
    "tf.reset_default_graph()\n",
    "with tf.Session() as sess:\n",
    "    saver = tf.train.import_meta_graph('my_net/save_net.ckpt.meta')\n",
    "    saver.restore(sess, tf.train.latest_checkpoint('my_net/'))\n",
    "    sess.run(tf.global_variables_initializer())\n",
    "    all_vars = tf.trainable_variables()\n",
    "    for v in all_vars:\n",
    "        print(\"%s with value %s\" % (v.name, sess.run(v)))\n",
    "'''\n",
    "def details(model, sess):\n",
    "    print(\"{:30}:{}\".format(\"convolution weight 1\", sess.run(model.W_conv1)))\n",
    "    #print(\"{:30}:{}\".format(\"convolution bias 1\", sess.run(model.b_conv1)))\n",
    "    print(\"{:30}:{}\".format(\"convolution weight 2\", sess.run(model.W_conv2)))\n",
    "    #print(\"{:30}:{}\".format(\"convolution bias 2\", sess.run(model.b_conv2)))\n",
    "\n",
    "    print(\"{:30}:{}\".format(\"full connected weight 1\", sess.run(model.W_fc1)))\n",
    "    #print(\"{:30}:{}\".format(\"full connected bias 1\", sess.run(model.b_fc1)))\n",
    "    print(\"{:30}:{}\".format(\"full connected weight 2\", sess.run(model.W_fc2)))\n",
    "    #print(\"{:30}:{}\".format(\"full connected bias 2\", sess.run(model.b_fc2)))\n",
    "    return\n",
    "\n",
    "\n",
    "#load model\n",
    "load_model=mnist_cnn_model()\n",
    "export_dir = \"./my_net/save_net.ckpt\"\n",
    "new_saver = tf.train.Saver({\n",
    "            \"W_conv1\": load_model.W_conv1, \n",
    "            \"W_conv2\": load_model.W_conv2, \n",
    "            \"b_conv1\": load_model.b_conv1, \n",
    "            \"b_conv2\": load_model.b_conv2, \n",
    "            \"W_fc1\": load_model.W_fc1, \n",
    "            \"W_fc2\": load_model.W_fc2, \n",
    "            \"b_fc1\": load_model.b_fc1, \n",
    "            \"b_fc2\": load_model.b_fc2\n",
    "        })\n",
    "#saver = tf.train.Saver()\n",
    "with tf.Session() as sess:\n",
    "#     sess.run(tf.global_variables_initializer())\n",
    "#     new_saver = tf.train.import_meta_graph('my_net/save_net.ckpt-200.meta')\n",
    "    new_saver.restore(sess, export_dir)#這裡一定有問題\n",
    "    print(\"Model Restore form\", export_dir)\n",
    "\n",
    "\n",
    "    test_model = mnist_cnn_model()\n",
    "    test_model.set_value(load_model.W_conv1, load_model.W_conv2, load_model.b_conv1, load_model.b_conv2, \n",
    "                load_model.W_fc1, load_model.W_fc2, load_model.b_fc1, load_model.b_fc2)\n",
    "\n",
    "    predict_y = test_model.run_cnn()\n",
    "\n",
    "    #show label that the most likely to the image\n",
    "    correct_prediction = tf.equal(tf.argmax(predict_y,1), tf.argmax(test_model.label_placeholder,1))\n",
    "    accuracy = tf.reduce_mean(tf.cast(correct_prediction, tf.float32))\n",
    "\n",
    "\n",
    "    img_test = mnist.test.images\n",
    "    label_test = mnist.test.labels\n",
    "\n",
    "    print(sess.run(predict_y, feed_dict={test_model.img_placeholder: img_test,\n",
    "                                                       test_model.label_placeholder: label_test,\n",
    "                                                       test_model.keep_prob: 1.0}))\n",
    "\n",
    "    print(\"Accuracy: \", sess.run(accuracy, feed_dict={test_model.img_placeholder: img_test,\n",
    "                                                       test_model.label_placeholder: label_test,\n",
    "                                                       test_model.keep_prob: 1.0}))\n",
    "\n",
    "    print(\"test:\", sess.run(tf.argmax(mnist.test.labels,1)))\n",
    "    print(\"model:\", sess.run(tf.argmax(predict_y, 1), feed_dict={test_model.img_placeholder: img_test,\n",
    "                                                                 test_model.label_placeholder: label_test, \n",
    "                                                                 test_model.keep_prob: 1.0}))\n",
    "\n",
    "print(predict_y)"
   ]
  },
  {
   "cell_type": "code",
   "execution_count": null,
   "metadata": {},
   "outputs": [],
   "source": [
    "# import the inspect_checkpoint library\n",
    "from tensorflow.python.tools import inspect_checkpoint as chkp\n",
    "\n",
    "# print all tensors in checkpoint file\n",
    "chkp.print_tensors_in_checkpoint_file(\"my_net/save_net.ckpt\", tensor_name='', all_tensors=True)"
   ]
  },
  {
   "cell_type": "code",
   "execution_count": null,
   "metadata": {},
   "outputs": [],
   "source": []
  }
 ],
 "metadata": {
  "kernelspec": {
   "display_name": "Python 3",
   "language": "python",
   "name": "python3"
  },
  "language_info": {
   "codemirror_mode": {
    "name": "ipython",
    "version": 3
   },
   "file_extension": ".py",
   "mimetype": "text/x-python",
   "name": "python",
   "nbconvert_exporter": "python",
   "pygments_lexer": "ipython3",
   "version": "3.6.4"
  }
 },
 "nbformat": 4,
 "nbformat_minor": 2
}
